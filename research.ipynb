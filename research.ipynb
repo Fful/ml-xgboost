{
 "cells": [
  {
   "cell_type": "code",
   "execution_count": 66,
   "id": "38952e6a",
   "metadata": {},
   "outputs": [],
   "source": [
    "# imports\n",
    "import pandas as pd\n",
    "import numpy as np\n",
    "import xgboost as xgb\n",
    "from sklearn.model_selection import train_test_split, GridSearchCV\n",
    "from sklearn.metrics import balanced_accuracy_score, roc_auc_score, make_scorer\n",
    "from sklearn.metrics import confusion_matrix, ConfusionMatrixDisplay\n",
    "import matplotlib as plt"
   ]
  },
  {
   "cell_type": "markdown",
   "source": [
    "[ConfusionMatrixDisplay](https://scikit-learn.org/1.0/modules/generated/sklearn.metrics.ConfusionMatrixDisplay.html#sklearn.metrics.ConfusionMatrixDisplay)\n",
    "[confusion_matrix](https://scikit-learn.org/stable/modules/generated/sklearn.metrics.confusion_matrix.html)\n",
    "[GridSearchCV](https://scikit-learn.org/stable/modules/generated/sklearn.model_selection.GridSearchCV.html)\n",
    "[balanced_accuracy_score](https://scikit-learn.org/stable/modules/generated/sklearn.metrics.balanced_accuracy_score.html)\n",
    "[make_scorer](https://scikit-learn.org/stable/modules/generated/sklearn.metrics.make_scorer.html)\n",
    "[roc_auc_score](https://scikit-learn.org/stable/modules/generated/sklearn.metrics.roc_auc_score.html)"
   ],
   "metadata": {
    "collapsed": false
   }
  },
  {
   "cell_type": "code",
   "execution_count": 67,
   "outputs": [
    {
     "name": "stdout",
     "output_type": "stream",
     "text": [
      "# packages in environment at C:\\PyFold\\Anaconda\\envs\\ml_xgboost:\n",
      "#\n",
      "# Name                    Version                   Build  Channel\n",
      "graphviz                  2.50.0               h7eca76f_1  \n",
      "python-graphviz           0.20.1          py311haa95532_0  \n",
      "\n",
      "Note: you may need to restart the kernel to use updated packages.\n"
     ]
    }
   ],
   "source": [
    "%conda list graphviz"
   ],
   "metadata": {
    "collapsed": false
   }
  },
  {
   "cell_type": "code",
   "execution_count": 68,
   "outputs": [
    {
     "data": {
      "text/plain": "   CustomerID  Count        Country       State         City  Zip Code  \\\n0  3668-QPYBK      1  United States  California  Los Angeles     90003   \n1  9237-HQITU      1  United States  California  Los Angeles     90005   \n2  9305-CDSKC      1  United States  California  Los Angeles     90006   \n3  7892-POOKP      1  United States  California  Los Angeles     90010   \n4  0280-XJGEX      1  United States  California  Los Angeles     90015   \n\n                 Lat Long   Latitude   Longitude  Gender  ...        Contract  \\\n0  33.964131, -118.272783  33.964131 -118.272783    Male  ...  Month-to-month   \n1   34.059281, -118.30742  34.059281 -118.307420  Female  ...  Month-to-month   \n2  34.048013, -118.293953  34.048013 -118.293953  Female  ...  Month-to-month   \n3  34.062125, -118.315709  34.062125 -118.315709  Female  ...  Month-to-month   \n4  34.039224, -118.266293  34.039224 -118.266293    Male  ...  Month-to-month   \n\n  Paperless Billing             Payment Method  Monthly Charges Total Charges  \\\n0               Yes               Mailed check            53.85        108.15   \n1               Yes           Electronic check            70.70        151.65   \n2               Yes           Electronic check            99.65         820.5   \n3               Yes           Electronic check           104.80       3046.05   \n4               Yes  Bank transfer (automatic)           103.70        5036.3   \n\n  Churn Label Churn Value Churn Score  CLTV                   Churn Reason  \n0         Yes           1          86  3239   Competitor made better offer  \n1         Yes           1          67  2701                          Moved  \n2         Yes           1          86  5372                          Moved  \n3         Yes           1          84  5003                          Moved  \n4         Yes           1          89  5340  Competitor had better devices  \n\n[5 rows x 33 columns]",
      "text/html": "<div>\n<style scoped>\n    .dataframe tbody tr th:only-of-type {\n        vertical-align: middle;\n    }\n\n    .dataframe tbody tr th {\n        vertical-align: top;\n    }\n\n    .dataframe thead th {\n        text-align: right;\n    }\n</style>\n<table border=\"1\" class=\"dataframe\">\n  <thead>\n    <tr style=\"text-align: right;\">\n      <th></th>\n      <th>CustomerID</th>\n      <th>Count</th>\n      <th>Country</th>\n      <th>State</th>\n      <th>City</th>\n      <th>Zip Code</th>\n      <th>Lat Long</th>\n      <th>Latitude</th>\n      <th>Longitude</th>\n      <th>Gender</th>\n      <th>...</th>\n      <th>Contract</th>\n      <th>Paperless Billing</th>\n      <th>Payment Method</th>\n      <th>Monthly Charges</th>\n      <th>Total Charges</th>\n      <th>Churn Label</th>\n      <th>Churn Value</th>\n      <th>Churn Score</th>\n      <th>CLTV</th>\n      <th>Churn Reason</th>\n    </tr>\n  </thead>\n  <tbody>\n    <tr>\n      <th>0</th>\n      <td>3668-QPYBK</td>\n      <td>1</td>\n      <td>United States</td>\n      <td>California</td>\n      <td>Los Angeles</td>\n      <td>90003</td>\n      <td>33.964131, -118.272783</td>\n      <td>33.964131</td>\n      <td>-118.272783</td>\n      <td>Male</td>\n      <td>...</td>\n      <td>Month-to-month</td>\n      <td>Yes</td>\n      <td>Mailed check</td>\n      <td>53.85</td>\n      <td>108.15</td>\n      <td>Yes</td>\n      <td>1</td>\n      <td>86</td>\n      <td>3239</td>\n      <td>Competitor made better offer</td>\n    </tr>\n    <tr>\n      <th>1</th>\n      <td>9237-HQITU</td>\n      <td>1</td>\n      <td>United States</td>\n      <td>California</td>\n      <td>Los Angeles</td>\n      <td>90005</td>\n      <td>34.059281, -118.30742</td>\n      <td>34.059281</td>\n      <td>-118.307420</td>\n      <td>Female</td>\n      <td>...</td>\n      <td>Month-to-month</td>\n      <td>Yes</td>\n      <td>Electronic check</td>\n      <td>70.70</td>\n      <td>151.65</td>\n      <td>Yes</td>\n      <td>1</td>\n      <td>67</td>\n      <td>2701</td>\n      <td>Moved</td>\n    </tr>\n    <tr>\n      <th>2</th>\n      <td>9305-CDSKC</td>\n      <td>1</td>\n      <td>United States</td>\n      <td>California</td>\n      <td>Los Angeles</td>\n      <td>90006</td>\n      <td>34.048013, -118.293953</td>\n      <td>34.048013</td>\n      <td>-118.293953</td>\n      <td>Female</td>\n      <td>...</td>\n      <td>Month-to-month</td>\n      <td>Yes</td>\n      <td>Electronic check</td>\n      <td>99.65</td>\n      <td>820.5</td>\n      <td>Yes</td>\n      <td>1</td>\n      <td>86</td>\n      <td>5372</td>\n      <td>Moved</td>\n    </tr>\n    <tr>\n      <th>3</th>\n      <td>7892-POOKP</td>\n      <td>1</td>\n      <td>United States</td>\n      <td>California</td>\n      <td>Los Angeles</td>\n      <td>90010</td>\n      <td>34.062125, -118.315709</td>\n      <td>34.062125</td>\n      <td>-118.315709</td>\n      <td>Female</td>\n      <td>...</td>\n      <td>Month-to-month</td>\n      <td>Yes</td>\n      <td>Electronic check</td>\n      <td>104.80</td>\n      <td>3046.05</td>\n      <td>Yes</td>\n      <td>1</td>\n      <td>84</td>\n      <td>5003</td>\n      <td>Moved</td>\n    </tr>\n    <tr>\n      <th>4</th>\n      <td>0280-XJGEX</td>\n      <td>1</td>\n      <td>United States</td>\n      <td>California</td>\n      <td>Los Angeles</td>\n      <td>90015</td>\n      <td>34.039224, -118.266293</td>\n      <td>34.039224</td>\n      <td>-118.266293</td>\n      <td>Male</td>\n      <td>...</td>\n      <td>Month-to-month</td>\n      <td>Yes</td>\n      <td>Bank transfer (automatic)</td>\n      <td>103.70</td>\n      <td>5036.3</td>\n      <td>Yes</td>\n      <td>1</td>\n      <td>89</td>\n      <td>5340</td>\n      <td>Competitor had better devices</td>\n    </tr>\n  </tbody>\n</table>\n<p>5 rows × 33 columns</p>\n</div>"
     },
     "execution_count": 68,
     "metadata": {},
     "output_type": "execute_result"
    }
   ],
   "source": [
    "df = pd.read_excel('data/Telco_customer_churn.xlsx')\n",
    "df.head()"
   ],
   "metadata": {
    "collapsed": false
   }
  },
  {
   "cell_type": "markdown",
   "source": [
    "We will not use last 4 columns, because we don't have this data for prediction for people that didn't churn yet, so it will cause to much weight on prediction and unobtainable at the right moment.\n",
    "I will leave lables only"
   ],
   "metadata": {
    "collapsed": false
   }
  },
  {
   "cell_type": "code",
   "execution_count": 69,
   "outputs": [],
   "source": [
    "df.drop(['Churn Label','Churn Reason','CLTV','Churn Score'], axis=1, inplace=True)"
   ],
   "metadata": {
    "collapsed": false
   }
  },
  {
   "cell_type": "code",
   "execution_count": 70,
   "outputs": [
    {
     "data": {
      "text/plain": "array([1, 0], dtype=int64)"
     },
     "execution_count": 70,
     "metadata": {},
     "output_type": "execute_result"
    }
   ],
   "source": [
    "# check useful info and useless wil be dropped\n",
    "# 1-value :iloc 1 2 3\n",
    "# duplicate data: 'Lat Long': 6\n",
    "df.iloc[:,28].unique()"
   ],
   "metadata": {
    "collapsed": false
   }
  },
  {
   "cell_type": "code",
   "execution_count": 71,
   "outputs": [],
   "source": [
    "df.drop(df.columns[[1,2,3,6]], axis=1, inplace=True)"
   ],
   "metadata": {
    "collapsed": false
   }
  },
  {
   "cell_type": "code",
   "execution_count": 72,
   "outputs": [],
   "source": [
    "df['City'].replace(' ', '_', regex=True, inplace=True)"
   ],
   "metadata": {
    "collapsed": false
   }
  },
  {
   "cell_type": "code",
   "execution_count": 73,
   "outputs": [
    {
     "data": {
      "text/plain": "array(['Los_Angeles', 'Beverly_Hills', 'Huntington_Park', ..., 'Standish',\n       'Tulelake', 'Olympic_Valley'], dtype=object)"
     },
     "execution_count": 73,
     "metadata": {},
     "output_type": "execute_result"
    }
   ],
   "source": [
    "# im little bit scared of spaces\n",
    "df.City.unique()"
   ],
   "metadata": {
    "collapsed": false
   }
  },
  {
   "cell_type": "code",
   "execution_count": 74,
   "outputs": [],
   "source": [
    "df.columns = df.columns.str.replace(' ','_')"
   ],
   "metadata": {
    "collapsed": false
   }
  },
  {
   "cell_type": "markdown",
   "source": [
    "# fixing data\n",
    "XGBoost can handle missing data so we will replace all misses to zeros"
   ],
   "metadata": {
    "collapsed": false
   }
  },
  {
   "cell_type": "code",
   "execution_count": 75,
   "outputs": [
    {
     "data": {
      "text/plain": "CustomerID            object\nCity                  object\nZip_Code               int64\nLatitude             float64\nLongitude            float64\nGender                object\nSenior_Citizen        object\nPartner               object\nDependents            object\nTenure_Months          int64\nPhone_Service         object\nMultiple_Lines        object\nInternet_Service      object\nOnline_Security       object\nOnline_Backup         object\nDevice_Protection     object\nTech_Support          object\nStreaming_TV          object\nStreaming_Movies      object\nContract              object\nPaperless_Billing     object\nPayment_Method        object\nMonthly_Charges      float64\nTotal_Charges         object\nChurn_Value            int64\ndtype: object"
     },
     "execution_count": 75,
     "metadata": {},
     "output_type": "execute_result"
    }
   ],
   "source": [
    "df.dtypes"
   ],
   "metadata": {
    "collapsed": false
   }
  },
  {
   "cell_type": "code",
   "execution_count": 76,
   "outputs": [
    {
     "data": {
      "text/plain": "   CustomerID         City  Zip_Code   Latitude   Longitude  Gender  \\\n0  3668-QPYBK  Los_Angeles     90003  33.964131 -118.272783    Male   \n1  9237-HQITU  Los_Angeles     90005  34.059281 -118.307420  Female   \n2  9305-CDSKC  Los_Angeles     90006  34.048013 -118.293953  Female   \n3  7892-POOKP  Los_Angeles     90010  34.062125 -118.315709  Female   \n4  0280-XJGEX  Los_Angeles     90015  34.039224 -118.266293    Male   \n\n  Senior_Citizen Partner Dependents  Tenure_Months  ... Device_Protection  \\\n0             No      No         No              2  ...                No   \n1             No      No        Yes              2  ...                No   \n2             No      No        Yes              8  ...               Yes   \n3             No     Yes        Yes             28  ...               Yes   \n4             No      No        Yes             49  ...               Yes   \n\n  Tech_Support Streaming_TV Streaming_Movies        Contract  \\\n0           No           No               No  Month-to-month   \n1           No           No               No  Month-to-month   \n2           No          Yes              Yes  Month-to-month   \n3          Yes          Yes              Yes  Month-to-month   \n4           No          Yes              Yes  Month-to-month   \n\n  Paperless_Billing             Payment_Method Monthly_Charges Total_Charges  \\\n0               Yes               Mailed check           53.85        108.15   \n1               Yes           Electronic check           70.70        151.65   \n2               Yes           Electronic check           99.65         820.5   \n3               Yes           Electronic check          104.80       3046.05   \n4               Yes  Bank transfer (automatic)          103.70        5036.3   \n\n  Churn_Value  \n0           1  \n1           1  \n2           1  \n3           1  \n4           1  \n\n[5 rows x 25 columns]",
      "text/html": "<div>\n<style scoped>\n    .dataframe tbody tr th:only-of-type {\n        vertical-align: middle;\n    }\n\n    .dataframe tbody tr th {\n        vertical-align: top;\n    }\n\n    .dataframe thead th {\n        text-align: right;\n    }\n</style>\n<table border=\"1\" class=\"dataframe\">\n  <thead>\n    <tr style=\"text-align: right;\">\n      <th></th>\n      <th>CustomerID</th>\n      <th>City</th>\n      <th>Zip_Code</th>\n      <th>Latitude</th>\n      <th>Longitude</th>\n      <th>Gender</th>\n      <th>Senior_Citizen</th>\n      <th>Partner</th>\n      <th>Dependents</th>\n      <th>Tenure_Months</th>\n      <th>...</th>\n      <th>Device_Protection</th>\n      <th>Tech_Support</th>\n      <th>Streaming_TV</th>\n      <th>Streaming_Movies</th>\n      <th>Contract</th>\n      <th>Paperless_Billing</th>\n      <th>Payment_Method</th>\n      <th>Monthly_Charges</th>\n      <th>Total_Charges</th>\n      <th>Churn_Value</th>\n    </tr>\n  </thead>\n  <tbody>\n    <tr>\n      <th>0</th>\n      <td>3668-QPYBK</td>\n      <td>Los_Angeles</td>\n      <td>90003</td>\n      <td>33.964131</td>\n      <td>-118.272783</td>\n      <td>Male</td>\n      <td>No</td>\n      <td>No</td>\n      <td>No</td>\n      <td>2</td>\n      <td>...</td>\n      <td>No</td>\n      <td>No</td>\n      <td>No</td>\n      <td>No</td>\n      <td>Month-to-month</td>\n      <td>Yes</td>\n      <td>Mailed check</td>\n      <td>53.85</td>\n      <td>108.15</td>\n      <td>1</td>\n    </tr>\n    <tr>\n      <th>1</th>\n      <td>9237-HQITU</td>\n      <td>Los_Angeles</td>\n      <td>90005</td>\n      <td>34.059281</td>\n      <td>-118.307420</td>\n      <td>Female</td>\n      <td>No</td>\n      <td>No</td>\n      <td>Yes</td>\n      <td>2</td>\n      <td>...</td>\n      <td>No</td>\n      <td>No</td>\n      <td>No</td>\n      <td>No</td>\n      <td>Month-to-month</td>\n      <td>Yes</td>\n      <td>Electronic check</td>\n      <td>70.70</td>\n      <td>151.65</td>\n      <td>1</td>\n    </tr>\n    <tr>\n      <th>2</th>\n      <td>9305-CDSKC</td>\n      <td>Los_Angeles</td>\n      <td>90006</td>\n      <td>34.048013</td>\n      <td>-118.293953</td>\n      <td>Female</td>\n      <td>No</td>\n      <td>No</td>\n      <td>Yes</td>\n      <td>8</td>\n      <td>...</td>\n      <td>Yes</td>\n      <td>No</td>\n      <td>Yes</td>\n      <td>Yes</td>\n      <td>Month-to-month</td>\n      <td>Yes</td>\n      <td>Electronic check</td>\n      <td>99.65</td>\n      <td>820.5</td>\n      <td>1</td>\n    </tr>\n    <tr>\n      <th>3</th>\n      <td>7892-POOKP</td>\n      <td>Los_Angeles</td>\n      <td>90010</td>\n      <td>34.062125</td>\n      <td>-118.315709</td>\n      <td>Female</td>\n      <td>No</td>\n      <td>Yes</td>\n      <td>Yes</td>\n      <td>28</td>\n      <td>...</td>\n      <td>Yes</td>\n      <td>Yes</td>\n      <td>Yes</td>\n      <td>Yes</td>\n      <td>Month-to-month</td>\n      <td>Yes</td>\n      <td>Electronic check</td>\n      <td>104.80</td>\n      <td>3046.05</td>\n      <td>1</td>\n    </tr>\n    <tr>\n      <th>4</th>\n      <td>0280-XJGEX</td>\n      <td>Los_Angeles</td>\n      <td>90015</td>\n      <td>34.039224</td>\n      <td>-118.266293</td>\n      <td>Male</td>\n      <td>No</td>\n      <td>No</td>\n      <td>Yes</td>\n      <td>49</td>\n      <td>...</td>\n      <td>Yes</td>\n      <td>No</td>\n      <td>Yes</td>\n      <td>Yes</td>\n      <td>Month-to-month</td>\n      <td>Yes</td>\n      <td>Bank transfer (automatic)</td>\n      <td>103.70</td>\n      <td>5036.3</td>\n      <td>1</td>\n    </tr>\n  </tbody>\n</table>\n<p>5 rows × 25 columns</p>\n</div>"
     },
     "execution_count": 76,
     "metadata": {},
     "output_type": "execute_result"
    }
   ],
   "source": [
    "df.head()\n",
    "# total charges seems numerical but it is object"
   ],
   "metadata": {
    "collapsed": false
   }
  },
  {
   "cell_type": "code",
   "execution_count": 77,
   "outputs": [
    {
     "data": {
      "text/plain": "array([1, 0], dtype=int64)"
     },
     "execution_count": 77,
     "metadata": {},
     "output_type": "execute_result"
    }
   ],
   "source": [
    "df[df.columns[24]].unique()"
   ],
   "metadata": {
    "collapsed": false
   }
  },
  {
   "cell_type": "code",
   "execution_count": 78,
   "outputs": [
    {
     "data": {
      "text/plain": "20.2      11\n          11\n19.75      9\n19.65      8\n20.05      8\n          ..\n444.75     1\n5459.2     1\n295.95     1\n394.1      1\n6844.5     1\nName: Total_Charges, Length: 6531, dtype: int64"
     },
     "execution_count": 78,
     "metadata": {},
     "output_type": "execute_result"
    }
   ],
   "source": [
    "# didnt get result as i expected, opss\n",
    "df['Total_Charges'].value_counts()"
   ],
   "metadata": {
    "collapsed": false
   }
  },
  {
   "cell_type": "code",
   "execution_count": 79,
   "outputs": [],
   "source": [
    "# pd.to_numeric(df.Total_Charges)\n",
    "# ValueError: Unable to parse string \" \" at position 2234"
   ],
   "metadata": {
    "collapsed": false
   }
  },
  {
   "cell_type": "markdown",
   "source": [
    "So we find out missing values, and I will deal with it in XGBoost way😎, set them to zeros"
   ],
   "metadata": {
    "collapsed": false
   }
  },
  {
   "cell_type": "code",
   "execution_count": 80,
   "outputs": [
    {
     "data": {
      "text/plain": "11"
     },
     "execution_count": 80,
     "metadata": {},
     "output_type": "execute_result"
    }
   ],
   "source": [
    "len(df.loc[df['Total_Charges']==' '])"
   ],
   "metadata": {
    "collapsed": false
   }
  },
  {
   "cell_type": "code",
   "execution_count": 81,
   "outputs": [
    {
     "data": {
      "text/plain": "      CustomerID            City  Zip_Code   Latitude   Longitude  Gender  \\\n2234  4472-LVYGI  San_Bernardino     92408  34.084909 -117.258107  Female   \n2438  3115-CZMZD    Independence     93526  36.869584 -118.189241    Male   \n2568  5709-LVOEQ       San_Mateo     94401  37.590421 -122.306467  Female   \n2667  4367-NUYAO       Cupertino     95014  37.306612 -122.080621    Male   \n2856  1371-DWPAZ        Redcrest     95569  40.363446 -123.835041  Female   \n4331  7644-OMVMY     Los_Angeles     90029  34.089953 -118.294824    Male   \n4687  3213-VVOLG        Sun_City     92585  33.739412 -117.173334    Male   \n5104  2520-SGTTA      Ben_Lomond     95005  37.078873 -122.090386  Female   \n5719  2923-ARZLG        La_Verne     91750  34.144703 -117.770299    Male   \n6772  4075-WKNIU            Bell     90201  33.970343 -118.171368  Female   \n6840  2775-SEFEE      Wilmington     90744  33.782068 -118.262263    Male   \n\n     Senior_Citizen Partner Dependents  Tenure_Months  ...  \\\n2234             No     Yes         No              0  ...   \n2438             No      No         No              0  ...   \n2568             No     Yes         No              0  ...   \n2667             No     Yes        Yes              0  ...   \n2856             No     Yes         No              0  ...   \n4331             No     Yes        Yes              0  ...   \n4687             No     Yes        Yes              0  ...   \n5104             No     Yes        Yes              0  ...   \n5719             No     Yes        Yes              0  ...   \n6772             No     Yes        Yes              0  ...   \n6840             No      No        Yes              0  ...   \n\n        Device_Protection         Tech_Support         Streaming_TV  \\\n2234                  Yes                  Yes                  Yes   \n2438  No internet service  No internet service  No internet service   \n2568                  Yes                   No                  Yes   \n2667  No internet service  No internet service  No internet service   \n2856                  Yes                  Yes                  Yes   \n4331  No internet service  No internet service  No internet service   \n4687  No internet service  No internet service  No internet service   \n5104  No internet service  No internet service  No internet service   \n5719  No internet service  No internet service  No internet service   \n6772                  Yes                  Yes                  Yes   \n6840                   No                  Yes                   No   \n\n         Streaming_Movies  Contract Paperless_Billing  \\\n2234                   No  Two year               Yes   \n2438  No internet service  Two year                No   \n2568                  Yes  Two year                No   \n2667  No internet service  Two year                No   \n2856                   No  Two year                No   \n4331  No internet service  Two year                No   \n4687  No internet service  Two year                No   \n5104  No internet service  Two year                No   \n5719  No internet service  One year               Yes   \n6772                   No  Two year                No   \n6840                   No  Two year               Yes   \n\n                 Payment_Method Monthly_Charges Total_Charges Churn_Value  \n2234  Bank transfer (automatic)           52.55                         0  \n2438               Mailed check           20.25                         0  \n2568               Mailed check           80.85                         0  \n2667               Mailed check           25.75                         0  \n2856    Credit card (automatic)           56.05                         0  \n4331               Mailed check           19.85                         0  \n4687               Mailed check           25.35                         0  \n5104               Mailed check           20.00                         0  \n5719               Mailed check           19.70                         0  \n6772               Mailed check           73.35                         0  \n6840  Bank transfer (automatic)           61.90                         0  \n\n[11 rows x 25 columns]",
      "text/html": "<div>\n<style scoped>\n    .dataframe tbody tr th:only-of-type {\n        vertical-align: middle;\n    }\n\n    .dataframe tbody tr th {\n        vertical-align: top;\n    }\n\n    .dataframe thead th {\n        text-align: right;\n    }\n</style>\n<table border=\"1\" class=\"dataframe\">\n  <thead>\n    <tr style=\"text-align: right;\">\n      <th></th>\n      <th>CustomerID</th>\n      <th>City</th>\n      <th>Zip_Code</th>\n      <th>Latitude</th>\n      <th>Longitude</th>\n      <th>Gender</th>\n      <th>Senior_Citizen</th>\n      <th>Partner</th>\n      <th>Dependents</th>\n      <th>Tenure_Months</th>\n      <th>...</th>\n      <th>Device_Protection</th>\n      <th>Tech_Support</th>\n      <th>Streaming_TV</th>\n      <th>Streaming_Movies</th>\n      <th>Contract</th>\n      <th>Paperless_Billing</th>\n      <th>Payment_Method</th>\n      <th>Monthly_Charges</th>\n      <th>Total_Charges</th>\n      <th>Churn_Value</th>\n    </tr>\n  </thead>\n  <tbody>\n    <tr>\n      <th>2234</th>\n      <td>4472-LVYGI</td>\n      <td>San_Bernardino</td>\n      <td>92408</td>\n      <td>34.084909</td>\n      <td>-117.258107</td>\n      <td>Female</td>\n      <td>No</td>\n      <td>Yes</td>\n      <td>No</td>\n      <td>0</td>\n      <td>...</td>\n      <td>Yes</td>\n      <td>Yes</td>\n      <td>Yes</td>\n      <td>No</td>\n      <td>Two year</td>\n      <td>Yes</td>\n      <td>Bank transfer (automatic)</td>\n      <td>52.55</td>\n      <td></td>\n      <td>0</td>\n    </tr>\n    <tr>\n      <th>2438</th>\n      <td>3115-CZMZD</td>\n      <td>Independence</td>\n      <td>93526</td>\n      <td>36.869584</td>\n      <td>-118.189241</td>\n      <td>Male</td>\n      <td>No</td>\n      <td>No</td>\n      <td>No</td>\n      <td>0</td>\n      <td>...</td>\n      <td>No internet service</td>\n      <td>No internet service</td>\n      <td>No internet service</td>\n      <td>No internet service</td>\n      <td>Two year</td>\n      <td>No</td>\n      <td>Mailed check</td>\n      <td>20.25</td>\n      <td></td>\n      <td>0</td>\n    </tr>\n    <tr>\n      <th>2568</th>\n      <td>5709-LVOEQ</td>\n      <td>San_Mateo</td>\n      <td>94401</td>\n      <td>37.590421</td>\n      <td>-122.306467</td>\n      <td>Female</td>\n      <td>No</td>\n      <td>Yes</td>\n      <td>No</td>\n      <td>0</td>\n      <td>...</td>\n      <td>Yes</td>\n      <td>No</td>\n      <td>Yes</td>\n      <td>Yes</td>\n      <td>Two year</td>\n      <td>No</td>\n      <td>Mailed check</td>\n      <td>80.85</td>\n      <td></td>\n      <td>0</td>\n    </tr>\n    <tr>\n      <th>2667</th>\n      <td>4367-NUYAO</td>\n      <td>Cupertino</td>\n      <td>95014</td>\n      <td>37.306612</td>\n      <td>-122.080621</td>\n      <td>Male</td>\n      <td>No</td>\n      <td>Yes</td>\n      <td>Yes</td>\n      <td>0</td>\n      <td>...</td>\n      <td>No internet service</td>\n      <td>No internet service</td>\n      <td>No internet service</td>\n      <td>No internet service</td>\n      <td>Two year</td>\n      <td>No</td>\n      <td>Mailed check</td>\n      <td>25.75</td>\n      <td></td>\n      <td>0</td>\n    </tr>\n    <tr>\n      <th>2856</th>\n      <td>1371-DWPAZ</td>\n      <td>Redcrest</td>\n      <td>95569</td>\n      <td>40.363446</td>\n      <td>-123.835041</td>\n      <td>Female</td>\n      <td>No</td>\n      <td>Yes</td>\n      <td>No</td>\n      <td>0</td>\n      <td>...</td>\n      <td>Yes</td>\n      <td>Yes</td>\n      <td>Yes</td>\n      <td>No</td>\n      <td>Two year</td>\n      <td>No</td>\n      <td>Credit card (automatic)</td>\n      <td>56.05</td>\n      <td></td>\n      <td>0</td>\n    </tr>\n    <tr>\n      <th>4331</th>\n      <td>7644-OMVMY</td>\n      <td>Los_Angeles</td>\n      <td>90029</td>\n      <td>34.089953</td>\n      <td>-118.294824</td>\n      <td>Male</td>\n      <td>No</td>\n      <td>Yes</td>\n      <td>Yes</td>\n      <td>0</td>\n      <td>...</td>\n      <td>No internet service</td>\n      <td>No internet service</td>\n      <td>No internet service</td>\n      <td>No internet service</td>\n      <td>Two year</td>\n      <td>No</td>\n      <td>Mailed check</td>\n      <td>19.85</td>\n      <td></td>\n      <td>0</td>\n    </tr>\n    <tr>\n      <th>4687</th>\n      <td>3213-VVOLG</td>\n      <td>Sun_City</td>\n      <td>92585</td>\n      <td>33.739412</td>\n      <td>-117.173334</td>\n      <td>Male</td>\n      <td>No</td>\n      <td>Yes</td>\n      <td>Yes</td>\n      <td>0</td>\n      <td>...</td>\n      <td>No internet service</td>\n      <td>No internet service</td>\n      <td>No internet service</td>\n      <td>No internet service</td>\n      <td>Two year</td>\n      <td>No</td>\n      <td>Mailed check</td>\n      <td>25.35</td>\n      <td></td>\n      <td>0</td>\n    </tr>\n    <tr>\n      <th>5104</th>\n      <td>2520-SGTTA</td>\n      <td>Ben_Lomond</td>\n      <td>95005</td>\n      <td>37.078873</td>\n      <td>-122.090386</td>\n      <td>Female</td>\n      <td>No</td>\n      <td>Yes</td>\n      <td>Yes</td>\n      <td>0</td>\n      <td>...</td>\n      <td>No internet service</td>\n      <td>No internet service</td>\n      <td>No internet service</td>\n      <td>No internet service</td>\n      <td>Two year</td>\n      <td>No</td>\n      <td>Mailed check</td>\n      <td>20.00</td>\n      <td></td>\n      <td>0</td>\n    </tr>\n    <tr>\n      <th>5719</th>\n      <td>2923-ARZLG</td>\n      <td>La_Verne</td>\n      <td>91750</td>\n      <td>34.144703</td>\n      <td>-117.770299</td>\n      <td>Male</td>\n      <td>No</td>\n      <td>Yes</td>\n      <td>Yes</td>\n      <td>0</td>\n      <td>...</td>\n      <td>No internet service</td>\n      <td>No internet service</td>\n      <td>No internet service</td>\n      <td>No internet service</td>\n      <td>One year</td>\n      <td>Yes</td>\n      <td>Mailed check</td>\n      <td>19.70</td>\n      <td></td>\n      <td>0</td>\n    </tr>\n    <tr>\n      <th>6772</th>\n      <td>4075-WKNIU</td>\n      <td>Bell</td>\n      <td>90201</td>\n      <td>33.970343</td>\n      <td>-118.171368</td>\n      <td>Female</td>\n      <td>No</td>\n      <td>Yes</td>\n      <td>Yes</td>\n      <td>0</td>\n      <td>...</td>\n      <td>Yes</td>\n      <td>Yes</td>\n      <td>Yes</td>\n      <td>No</td>\n      <td>Two year</td>\n      <td>No</td>\n      <td>Mailed check</td>\n      <td>73.35</td>\n      <td></td>\n      <td>0</td>\n    </tr>\n    <tr>\n      <th>6840</th>\n      <td>2775-SEFEE</td>\n      <td>Wilmington</td>\n      <td>90744</td>\n      <td>33.782068</td>\n      <td>-118.262263</td>\n      <td>Male</td>\n      <td>No</td>\n      <td>No</td>\n      <td>Yes</td>\n      <td>0</td>\n      <td>...</td>\n      <td>No</td>\n      <td>Yes</td>\n      <td>No</td>\n      <td>No</td>\n      <td>Two year</td>\n      <td>Yes</td>\n      <td>Bank transfer (automatic)</td>\n      <td>61.90</td>\n      <td></td>\n      <td>0</td>\n    </tr>\n  </tbody>\n</table>\n<p>11 rows × 25 columns</p>\n</div>"
     },
     "execution_count": 81,
     "metadata": {},
     "output_type": "execute_result"
    }
   ],
   "source": [
    "df.loc[df['Total_Charges']==' ']\n",
    "#Tenure_Months == 0 thats wy no data"
   ],
   "metadata": {
    "collapsed": false
   }
  },
  {
   "cell_type": "code",
   "execution_count": 82,
   "outputs": [],
   "source": [
    "df.loc[(df['Total_Charges']==' '), 'Total_Charges'] = 0"
   ],
   "metadata": {
    "collapsed": false
   }
  },
  {
   "cell_type": "code",
   "execution_count": 83,
   "outputs": [
    {
     "data": {
      "text/plain": "      CustomerID            City  Zip_Code   Latitude   Longitude  Gender  \\\n2234  4472-LVYGI  San_Bernardino     92408  34.084909 -117.258107  Female   \n2438  3115-CZMZD    Independence     93526  36.869584 -118.189241    Male   \n2568  5709-LVOEQ       San_Mateo     94401  37.590421 -122.306467  Female   \n2667  4367-NUYAO       Cupertino     95014  37.306612 -122.080621    Male   \n2856  1371-DWPAZ        Redcrest     95569  40.363446 -123.835041  Female   \n4331  7644-OMVMY     Los_Angeles     90029  34.089953 -118.294824    Male   \n4687  3213-VVOLG        Sun_City     92585  33.739412 -117.173334    Male   \n5104  2520-SGTTA      Ben_Lomond     95005  37.078873 -122.090386  Female   \n5719  2923-ARZLG        La_Verne     91750  34.144703 -117.770299    Male   \n6772  4075-WKNIU            Bell     90201  33.970343 -118.171368  Female   \n6840  2775-SEFEE      Wilmington     90744  33.782068 -118.262263    Male   \n\n     Senior_Citizen Partner Dependents  Tenure_Months  ...  \\\n2234             No     Yes         No              0  ...   \n2438             No      No         No              0  ...   \n2568             No     Yes         No              0  ...   \n2667             No     Yes        Yes              0  ...   \n2856             No     Yes         No              0  ...   \n4331             No     Yes        Yes              0  ...   \n4687             No     Yes        Yes              0  ...   \n5104             No     Yes        Yes              0  ...   \n5719             No     Yes        Yes              0  ...   \n6772             No     Yes        Yes              0  ...   \n6840             No      No        Yes              0  ...   \n\n        Device_Protection         Tech_Support         Streaming_TV  \\\n2234                  Yes                  Yes                  Yes   \n2438  No internet service  No internet service  No internet service   \n2568                  Yes                   No                  Yes   \n2667  No internet service  No internet service  No internet service   \n2856                  Yes                  Yes                  Yes   \n4331  No internet service  No internet service  No internet service   \n4687  No internet service  No internet service  No internet service   \n5104  No internet service  No internet service  No internet service   \n5719  No internet service  No internet service  No internet service   \n6772                  Yes                  Yes                  Yes   \n6840                   No                  Yes                   No   \n\n         Streaming_Movies  Contract Paperless_Billing  \\\n2234                   No  Two year               Yes   \n2438  No internet service  Two year                No   \n2568                  Yes  Two year                No   \n2667  No internet service  Two year                No   \n2856                   No  Two year                No   \n4331  No internet service  Two year                No   \n4687  No internet service  Two year                No   \n5104  No internet service  Two year                No   \n5719  No internet service  One year               Yes   \n6772                   No  Two year                No   \n6840                   No  Two year               Yes   \n\n                 Payment_Method Monthly_Charges Total_Charges Churn_Value  \n2234  Bank transfer (automatic)           52.55             0           0  \n2438               Mailed check           20.25             0           0  \n2568               Mailed check           80.85             0           0  \n2667               Mailed check           25.75             0           0  \n2856    Credit card (automatic)           56.05             0           0  \n4331               Mailed check           19.85             0           0  \n4687               Mailed check           25.35             0           0  \n5104               Mailed check           20.00             0           0  \n5719               Mailed check           19.70             0           0  \n6772               Mailed check           73.35             0           0  \n6840  Bank transfer (automatic)           61.90             0           0  \n\n[11 rows x 25 columns]",
      "text/html": "<div>\n<style scoped>\n    .dataframe tbody tr th:only-of-type {\n        vertical-align: middle;\n    }\n\n    .dataframe tbody tr th {\n        vertical-align: top;\n    }\n\n    .dataframe thead th {\n        text-align: right;\n    }\n</style>\n<table border=\"1\" class=\"dataframe\">\n  <thead>\n    <tr style=\"text-align: right;\">\n      <th></th>\n      <th>CustomerID</th>\n      <th>City</th>\n      <th>Zip_Code</th>\n      <th>Latitude</th>\n      <th>Longitude</th>\n      <th>Gender</th>\n      <th>Senior_Citizen</th>\n      <th>Partner</th>\n      <th>Dependents</th>\n      <th>Tenure_Months</th>\n      <th>...</th>\n      <th>Device_Protection</th>\n      <th>Tech_Support</th>\n      <th>Streaming_TV</th>\n      <th>Streaming_Movies</th>\n      <th>Contract</th>\n      <th>Paperless_Billing</th>\n      <th>Payment_Method</th>\n      <th>Monthly_Charges</th>\n      <th>Total_Charges</th>\n      <th>Churn_Value</th>\n    </tr>\n  </thead>\n  <tbody>\n    <tr>\n      <th>2234</th>\n      <td>4472-LVYGI</td>\n      <td>San_Bernardino</td>\n      <td>92408</td>\n      <td>34.084909</td>\n      <td>-117.258107</td>\n      <td>Female</td>\n      <td>No</td>\n      <td>Yes</td>\n      <td>No</td>\n      <td>0</td>\n      <td>...</td>\n      <td>Yes</td>\n      <td>Yes</td>\n      <td>Yes</td>\n      <td>No</td>\n      <td>Two year</td>\n      <td>Yes</td>\n      <td>Bank transfer (automatic)</td>\n      <td>52.55</td>\n      <td>0</td>\n      <td>0</td>\n    </tr>\n    <tr>\n      <th>2438</th>\n      <td>3115-CZMZD</td>\n      <td>Independence</td>\n      <td>93526</td>\n      <td>36.869584</td>\n      <td>-118.189241</td>\n      <td>Male</td>\n      <td>No</td>\n      <td>No</td>\n      <td>No</td>\n      <td>0</td>\n      <td>...</td>\n      <td>No internet service</td>\n      <td>No internet service</td>\n      <td>No internet service</td>\n      <td>No internet service</td>\n      <td>Two year</td>\n      <td>No</td>\n      <td>Mailed check</td>\n      <td>20.25</td>\n      <td>0</td>\n      <td>0</td>\n    </tr>\n    <tr>\n      <th>2568</th>\n      <td>5709-LVOEQ</td>\n      <td>San_Mateo</td>\n      <td>94401</td>\n      <td>37.590421</td>\n      <td>-122.306467</td>\n      <td>Female</td>\n      <td>No</td>\n      <td>Yes</td>\n      <td>No</td>\n      <td>0</td>\n      <td>...</td>\n      <td>Yes</td>\n      <td>No</td>\n      <td>Yes</td>\n      <td>Yes</td>\n      <td>Two year</td>\n      <td>No</td>\n      <td>Mailed check</td>\n      <td>80.85</td>\n      <td>0</td>\n      <td>0</td>\n    </tr>\n    <tr>\n      <th>2667</th>\n      <td>4367-NUYAO</td>\n      <td>Cupertino</td>\n      <td>95014</td>\n      <td>37.306612</td>\n      <td>-122.080621</td>\n      <td>Male</td>\n      <td>No</td>\n      <td>Yes</td>\n      <td>Yes</td>\n      <td>0</td>\n      <td>...</td>\n      <td>No internet service</td>\n      <td>No internet service</td>\n      <td>No internet service</td>\n      <td>No internet service</td>\n      <td>Two year</td>\n      <td>No</td>\n      <td>Mailed check</td>\n      <td>25.75</td>\n      <td>0</td>\n      <td>0</td>\n    </tr>\n    <tr>\n      <th>2856</th>\n      <td>1371-DWPAZ</td>\n      <td>Redcrest</td>\n      <td>95569</td>\n      <td>40.363446</td>\n      <td>-123.835041</td>\n      <td>Female</td>\n      <td>No</td>\n      <td>Yes</td>\n      <td>No</td>\n      <td>0</td>\n      <td>...</td>\n      <td>Yes</td>\n      <td>Yes</td>\n      <td>Yes</td>\n      <td>No</td>\n      <td>Two year</td>\n      <td>No</td>\n      <td>Credit card (automatic)</td>\n      <td>56.05</td>\n      <td>0</td>\n      <td>0</td>\n    </tr>\n    <tr>\n      <th>4331</th>\n      <td>7644-OMVMY</td>\n      <td>Los_Angeles</td>\n      <td>90029</td>\n      <td>34.089953</td>\n      <td>-118.294824</td>\n      <td>Male</td>\n      <td>No</td>\n      <td>Yes</td>\n      <td>Yes</td>\n      <td>0</td>\n      <td>...</td>\n      <td>No internet service</td>\n      <td>No internet service</td>\n      <td>No internet service</td>\n      <td>No internet service</td>\n      <td>Two year</td>\n      <td>No</td>\n      <td>Mailed check</td>\n      <td>19.85</td>\n      <td>0</td>\n      <td>0</td>\n    </tr>\n    <tr>\n      <th>4687</th>\n      <td>3213-VVOLG</td>\n      <td>Sun_City</td>\n      <td>92585</td>\n      <td>33.739412</td>\n      <td>-117.173334</td>\n      <td>Male</td>\n      <td>No</td>\n      <td>Yes</td>\n      <td>Yes</td>\n      <td>0</td>\n      <td>...</td>\n      <td>No internet service</td>\n      <td>No internet service</td>\n      <td>No internet service</td>\n      <td>No internet service</td>\n      <td>Two year</td>\n      <td>No</td>\n      <td>Mailed check</td>\n      <td>25.35</td>\n      <td>0</td>\n      <td>0</td>\n    </tr>\n    <tr>\n      <th>5104</th>\n      <td>2520-SGTTA</td>\n      <td>Ben_Lomond</td>\n      <td>95005</td>\n      <td>37.078873</td>\n      <td>-122.090386</td>\n      <td>Female</td>\n      <td>No</td>\n      <td>Yes</td>\n      <td>Yes</td>\n      <td>0</td>\n      <td>...</td>\n      <td>No internet service</td>\n      <td>No internet service</td>\n      <td>No internet service</td>\n      <td>No internet service</td>\n      <td>Two year</td>\n      <td>No</td>\n      <td>Mailed check</td>\n      <td>20.00</td>\n      <td>0</td>\n      <td>0</td>\n    </tr>\n    <tr>\n      <th>5719</th>\n      <td>2923-ARZLG</td>\n      <td>La_Verne</td>\n      <td>91750</td>\n      <td>34.144703</td>\n      <td>-117.770299</td>\n      <td>Male</td>\n      <td>No</td>\n      <td>Yes</td>\n      <td>Yes</td>\n      <td>0</td>\n      <td>...</td>\n      <td>No internet service</td>\n      <td>No internet service</td>\n      <td>No internet service</td>\n      <td>No internet service</td>\n      <td>One year</td>\n      <td>Yes</td>\n      <td>Mailed check</td>\n      <td>19.70</td>\n      <td>0</td>\n      <td>0</td>\n    </tr>\n    <tr>\n      <th>6772</th>\n      <td>4075-WKNIU</td>\n      <td>Bell</td>\n      <td>90201</td>\n      <td>33.970343</td>\n      <td>-118.171368</td>\n      <td>Female</td>\n      <td>No</td>\n      <td>Yes</td>\n      <td>Yes</td>\n      <td>0</td>\n      <td>...</td>\n      <td>Yes</td>\n      <td>Yes</td>\n      <td>Yes</td>\n      <td>No</td>\n      <td>Two year</td>\n      <td>No</td>\n      <td>Mailed check</td>\n      <td>73.35</td>\n      <td>0</td>\n      <td>0</td>\n    </tr>\n    <tr>\n      <th>6840</th>\n      <td>2775-SEFEE</td>\n      <td>Wilmington</td>\n      <td>90744</td>\n      <td>33.782068</td>\n      <td>-118.262263</td>\n      <td>Male</td>\n      <td>No</td>\n      <td>No</td>\n      <td>Yes</td>\n      <td>0</td>\n      <td>...</td>\n      <td>No</td>\n      <td>Yes</td>\n      <td>No</td>\n      <td>No</td>\n      <td>Two year</td>\n      <td>Yes</td>\n      <td>Bank transfer (automatic)</td>\n      <td>61.90</td>\n      <td>0</td>\n      <td>0</td>\n    </tr>\n  </tbody>\n</table>\n<p>11 rows × 25 columns</p>\n</div>"
     },
     "execution_count": 83,
     "metadata": {},
     "output_type": "execute_result"
    }
   ],
   "source": [
    "df.loc[df['Tenure_Months']==0]\n",
    "# verified"
   ],
   "metadata": {
    "collapsed": false
   }
  },
  {
   "cell_type": "code",
   "execution_count": 84,
   "outputs": [
    {
     "data": {
      "text/plain": "CustomerID            object\nCity                  object\nZip_Code               int64\nLatitude             float64\nLongitude            float64\nGender                object\nSenior_Citizen        object\nPartner               object\nDependents            object\nTenure_Months          int64\nPhone_Service         object\nMultiple_Lines        object\nInternet_Service      object\nOnline_Security       object\nOnline_Backup         object\nDevice_Protection     object\nTech_Support          object\nStreaming_TV          object\nStreaming_Movies      object\nContract              object\nPaperless_Billing     object\nPayment_Method        object\nMonthly_Charges      float64\nTotal_Charges        float64\nChurn_Value            int64\ndtype: object"
     },
     "execution_count": 84,
     "metadata": {},
     "output_type": "execute_result"
    }
   ],
   "source": [
    "df['Total_Charges'] = pd.to_numeric(df['Total_Charges'])\n",
    "df.dtypes"
   ],
   "metadata": {
    "collapsed": false
   }
  },
  {
   "cell_type": "code",
   "execution_count": 85,
   "outputs": [],
   "source": [
    "df.replace(' ', '_', regex=True, inplace=True)"
   ],
   "metadata": {
    "collapsed": false
   }
  },
  {
   "cell_type": "markdown",
   "source": [
    "# Formating data to XGBoost model"
   ],
   "metadata": {
    "collapsed": false
   }
  },
  {
   "cell_type": "code",
   "execution_count": 86,
   "outputs": [],
   "source": [
    "X = df.drop(['Churn_Value','CustomerID'], axis=1).copy()\n",
    "y = df['Churn_Value'].copy()"
   ],
   "metadata": {
    "collapsed": false
   }
  },
  {
   "cell_type": "code",
   "execution_count": 87,
   "outputs": [],
   "source": [
    "# one hot encoding\n",
    "X_encoded = pd.get_dummies(X, columns=['City',\n",
    "                                       'Gender',\n",
    "                                       'Senior_Citizen',\n",
    "                                       'Partner',\n",
    "                                       'Dependents',\n",
    "                                       'Phone_Service',\n",
    "                                       'Multiple_Lines',\n",
    "                                       'Internet_Service',\n",
    "                                       'Online_Security',\n",
    "                                       'Online_Backup',\n",
    "                                       'Device_Protection',\n",
    "                                       'Tech_Support',\n",
    "                                       'Streaming_TV',\n",
    "                                       'Streaming_Movies',\n",
    "                                       'Contract',\n",
    "                                       'Paperless_Billing',\n",
    "                                       'Payment_Method'])"
   ],
   "metadata": {
    "collapsed": false
   }
  },
  {
   "cell_type": "code",
   "execution_count": 88,
   "outputs": [
    {
     "data": {
      "text/plain": "   Zip_Code   Latitude   Longitude  Tenure_Months  Monthly_Charges  \\\n0     90003  33.964131 -118.272783              2            53.85   \n1     90005  34.059281 -118.307420              2            70.70   \n2     90006  34.048013 -118.293953              8            99.65   \n3     90010  34.062125 -118.315709             28           104.80   \n4     90015  34.039224 -118.266293             49           103.70   \n\n   Total_Charges  City_Acampo  City_Acton  City_Adelanto  City_Adin  ...  \\\n0         108.15            0           0              0          0  ...   \n1         151.65            0           0              0          0  ...   \n2         820.50            0           0              0          0  ...   \n3        3046.05            0           0              0          0  ...   \n4        5036.30            0           0              0          0  ...   \n\n   Streaming_Movies_Yes  Contract_Month-to-month  Contract_One_year  \\\n0                     0                        1                  0   \n1                     0                        1                  0   \n2                     1                        1                  0   \n3                     1                        1                  0   \n4                     1                        1                  0   \n\n   Contract_Two_year  Paperless_Billing_No  Paperless_Billing_Yes  \\\n0                  0                     0                      1   \n1                  0                     0                      1   \n2                  0                     0                      1   \n3                  0                     0                      1   \n4                  0                     0                      1   \n\n   Payment_Method_Bank_transfer_(automatic)  \\\n0                                         0   \n1                                         0   \n2                                         0   \n3                                         0   \n4                                         1   \n\n   Payment_Method_Credit_card_(automatic)  Payment_Method_Electronic_check  \\\n0                                       0                                0   \n1                                       0                                1   \n2                                       0                                1   \n3                                       0                                1   \n4                                       0                                0   \n\n   Payment_Method_Mailed_check  \n0                            1  \n1                            0  \n2                            0  \n3                            0  \n4                            0  \n\n[5 rows x 1178 columns]",
      "text/html": "<div>\n<style scoped>\n    .dataframe tbody tr th:only-of-type {\n        vertical-align: middle;\n    }\n\n    .dataframe tbody tr th {\n        vertical-align: top;\n    }\n\n    .dataframe thead th {\n        text-align: right;\n    }\n</style>\n<table border=\"1\" class=\"dataframe\">\n  <thead>\n    <tr style=\"text-align: right;\">\n      <th></th>\n      <th>Zip_Code</th>\n      <th>Latitude</th>\n      <th>Longitude</th>\n      <th>Tenure_Months</th>\n      <th>Monthly_Charges</th>\n      <th>Total_Charges</th>\n      <th>City_Acampo</th>\n      <th>City_Acton</th>\n      <th>City_Adelanto</th>\n      <th>City_Adin</th>\n      <th>...</th>\n      <th>Streaming_Movies_Yes</th>\n      <th>Contract_Month-to-month</th>\n      <th>Contract_One_year</th>\n      <th>Contract_Two_year</th>\n      <th>Paperless_Billing_No</th>\n      <th>Paperless_Billing_Yes</th>\n      <th>Payment_Method_Bank_transfer_(automatic)</th>\n      <th>Payment_Method_Credit_card_(automatic)</th>\n      <th>Payment_Method_Electronic_check</th>\n      <th>Payment_Method_Mailed_check</th>\n    </tr>\n  </thead>\n  <tbody>\n    <tr>\n      <th>0</th>\n      <td>90003</td>\n      <td>33.964131</td>\n      <td>-118.272783</td>\n      <td>2</td>\n      <td>53.85</td>\n      <td>108.15</td>\n      <td>0</td>\n      <td>0</td>\n      <td>0</td>\n      <td>0</td>\n      <td>...</td>\n      <td>0</td>\n      <td>1</td>\n      <td>0</td>\n      <td>0</td>\n      <td>0</td>\n      <td>1</td>\n      <td>0</td>\n      <td>0</td>\n      <td>0</td>\n      <td>1</td>\n    </tr>\n    <tr>\n      <th>1</th>\n      <td>90005</td>\n      <td>34.059281</td>\n      <td>-118.307420</td>\n      <td>2</td>\n      <td>70.70</td>\n      <td>151.65</td>\n      <td>0</td>\n      <td>0</td>\n      <td>0</td>\n      <td>0</td>\n      <td>...</td>\n      <td>0</td>\n      <td>1</td>\n      <td>0</td>\n      <td>0</td>\n      <td>0</td>\n      <td>1</td>\n      <td>0</td>\n      <td>0</td>\n      <td>1</td>\n      <td>0</td>\n    </tr>\n    <tr>\n      <th>2</th>\n      <td>90006</td>\n      <td>34.048013</td>\n      <td>-118.293953</td>\n      <td>8</td>\n      <td>99.65</td>\n      <td>820.50</td>\n      <td>0</td>\n      <td>0</td>\n      <td>0</td>\n      <td>0</td>\n      <td>...</td>\n      <td>1</td>\n      <td>1</td>\n      <td>0</td>\n      <td>0</td>\n      <td>0</td>\n      <td>1</td>\n      <td>0</td>\n      <td>0</td>\n      <td>1</td>\n      <td>0</td>\n    </tr>\n    <tr>\n      <th>3</th>\n      <td>90010</td>\n      <td>34.062125</td>\n      <td>-118.315709</td>\n      <td>28</td>\n      <td>104.80</td>\n      <td>3046.05</td>\n      <td>0</td>\n      <td>0</td>\n      <td>0</td>\n      <td>0</td>\n      <td>...</td>\n      <td>1</td>\n      <td>1</td>\n      <td>0</td>\n      <td>0</td>\n      <td>0</td>\n      <td>1</td>\n      <td>0</td>\n      <td>0</td>\n      <td>1</td>\n      <td>0</td>\n    </tr>\n    <tr>\n      <th>4</th>\n      <td>90015</td>\n      <td>34.039224</td>\n      <td>-118.266293</td>\n      <td>49</td>\n      <td>103.70</td>\n      <td>5036.30</td>\n      <td>0</td>\n      <td>0</td>\n      <td>0</td>\n      <td>0</td>\n      <td>...</td>\n      <td>1</td>\n      <td>1</td>\n      <td>0</td>\n      <td>0</td>\n      <td>0</td>\n      <td>1</td>\n      <td>1</td>\n      <td>0</td>\n      <td>0</td>\n      <td>0</td>\n    </tr>\n  </tbody>\n</table>\n<p>5 rows × 1178 columns</p>\n</div>"
     },
     "execution_count": 88,
     "metadata": {},
     "output_type": "execute_result"
    }
   ],
   "source": [
    "X_encoded.head()\n",
    "# 1179 col, is what we deserve"
   ],
   "metadata": {
    "collapsed": false
   }
  },
  {
   "cell_type": "code",
   "execution_count": 89,
   "outputs": [
    {
     "data": {
      "text/plain": "array([1, 0], dtype=int64)"
     },
     "execution_count": 89,
     "metadata": {},
     "output_type": "execute_result"
    }
   ],
   "source": [
    "y.unique()"
   ],
   "metadata": {
    "collapsed": false
   }
  },
  {
   "cell_type": "markdown",
   "source": [
    "# Bulding model"
   ],
   "metadata": {
    "collapsed": false
   }
  },
  {
   "cell_type": "code",
   "execution_count": 90,
   "outputs": [
    {
     "data": {
      "text/plain": "0.2653698707936959"
     },
     "execution_count": 90,
     "metadata": {},
     "output_type": "execute_result"
    }
   ],
   "source": [
    "sum(y)/len(y)"
   ],
   "metadata": {
    "collapsed": false
   }
  },
  {
   "cell_type": "code",
   "execution_count": 91,
   "outputs": [],
   "source": [
    "X_train, X_test, y_train, y_test = train_test_split(X_encoded, y, random_state=6, stratify=y)"
   ],
   "metadata": {
    "collapsed": false
   }
  },
  {
   "cell_type": "code",
   "execution_count": 92,
   "outputs": [
    {
     "data": {
      "text/plain": "(0.2654297614539947, 0.26519023282226006)"
     },
     "execution_count": 92,
     "metadata": {},
     "output_type": "execute_result"
    }
   ],
   "source": [
    "(sum(y_train)/len(y_train), sum(y_test)/len(y_test))"
   ],
   "metadata": {
    "collapsed": false
   }
  },
  {
   "cell_type": "code",
   "execution_count": 96,
   "outputs": [
    {
     "name": "stderr",
     "output_type": "stream",
     "text": [
      "C:\\PyFold\\Anaconda\\envs\\ml_xgboost\\Lib\\site-packages\\xgboost\\sklearn.py:835: UserWarning: `eval_metric` in `fit` method is deprecated for better compatibility with scikit-learn, use `eval_metric` in constructor or`set_params` instead.\n",
      "  warnings.warn(\n",
      "C:\\PyFold\\Anaconda\\envs\\ml_xgboost\\Lib\\site-packages\\xgboost\\sklearn.py:835: UserWarning: `early_stopping_rounds` in `fit` method is deprecated for better compatibility with scikit-learn, use `early_stopping_rounds` in constructor or`set_params` instead.\n",
      "  warnings.warn(\n"
     ]
    },
    {
     "name": "stdout",
     "output_type": "stream",
     "text": [
      "[0]\tvalidation_0-aucpr:0.61605\n",
      "[1]\tvalidation_0-aucpr:0.62668\n",
      "[2]\tvalidation_0-aucpr:0.64469\n",
      "[3]\tvalidation_0-aucpr:0.65052\n",
      "[4]\tvalidation_0-aucpr:0.65180\n",
      "[5]\tvalidation_0-aucpr:0.65337\n",
      "[6]\tvalidation_0-aucpr:0.65493\n",
      "[7]\tvalidation_0-aucpr:0.66096\n",
      "[8]\tvalidation_0-aucpr:0.65665\n",
      "[9]\tvalidation_0-aucpr:0.65836\n",
      "[10]\tvalidation_0-aucpr:0.65792\n",
      "[11]\tvalidation_0-aucpr:0.65805\n",
      "[12]\tvalidation_0-aucpr:0.65913\n",
      "[13]\tvalidation_0-aucpr:0.65842\n",
      "[14]\tvalidation_0-aucpr:0.65780\n",
      "[15]\tvalidation_0-aucpr:0.65530\n",
      "[16]\tvalidation_0-aucpr:0.65179\n"
     ]
    },
    {
     "data": {
      "text/plain": "XGBClassifier(base_score=None, booster=None, callbacks=None,\n              colsample_bylevel=None, colsample_bynode=None,\n              colsample_bytree=None, early_stopping_rounds=None,\n              enable_categorical=False, eval_metric=None, feature_types=None,\n              gamma=None, gpu_id=None, grow_policy=None, importance_type=None,\n              interaction_constraints=None, learning_rate=None, max_bin=None,\n              max_cat_threshold=None, max_cat_to_onehot=None,\n              max_delta_step=None, max_depth=None, max_leaves=None,\n              min_child_weight=None, missing=nan, monotone_constraints=None,\n              n_estimators=100, n_jobs=None, num_parallel_tree=None,\n              predictor=None, random_state=None, ...)",
      "text/html": "<style>#sk-container-id-6 {color: black;background-color: white;}#sk-container-id-6 pre{padding: 0;}#sk-container-id-6 div.sk-toggleable {background-color: white;}#sk-container-id-6 label.sk-toggleable__label {cursor: pointer;display: block;width: 100%;margin-bottom: 0;padding: 0.3em;box-sizing: border-box;text-align: center;}#sk-container-id-6 label.sk-toggleable__label-arrow:before {content: \"▸\";float: left;margin-right: 0.25em;color: #696969;}#sk-container-id-6 label.sk-toggleable__label-arrow:hover:before {color: black;}#sk-container-id-6 div.sk-estimator:hover label.sk-toggleable__label-arrow:before {color: black;}#sk-container-id-6 div.sk-toggleable__content {max-height: 0;max-width: 0;overflow: hidden;text-align: left;background-color: #f0f8ff;}#sk-container-id-6 div.sk-toggleable__content pre {margin: 0.2em;color: black;border-radius: 0.25em;background-color: #f0f8ff;}#sk-container-id-6 input.sk-toggleable__control:checked~div.sk-toggleable__content {max-height: 200px;max-width: 100%;overflow: auto;}#sk-container-id-6 input.sk-toggleable__control:checked~label.sk-toggleable__label-arrow:before {content: \"▾\";}#sk-container-id-6 div.sk-estimator input.sk-toggleable__control:checked~label.sk-toggleable__label {background-color: #d4ebff;}#sk-container-id-6 div.sk-label input.sk-toggleable__control:checked~label.sk-toggleable__label {background-color: #d4ebff;}#sk-container-id-6 input.sk-hidden--visually {border: 0;clip: rect(1px 1px 1px 1px);clip: rect(1px, 1px, 1px, 1px);height: 1px;margin: -1px;overflow: hidden;padding: 0;position: absolute;width: 1px;}#sk-container-id-6 div.sk-estimator {font-family: monospace;background-color: #f0f8ff;border: 1px dotted black;border-radius: 0.25em;box-sizing: border-box;margin-bottom: 0.5em;}#sk-container-id-6 div.sk-estimator:hover {background-color: #d4ebff;}#sk-container-id-6 div.sk-parallel-item::after {content: \"\";width: 100%;border-bottom: 1px solid gray;flex-grow: 1;}#sk-container-id-6 div.sk-label:hover label.sk-toggleable__label {background-color: #d4ebff;}#sk-container-id-6 div.sk-serial::before {content: \"\";position: absolute;border-left: 1px solid gray;box-sizing: border-box;top: 0;bottom: 0;left: 50%;z-index: 0;}#sk-container-id-6 div.sk-serial {display: flex;flex-direction: column;align-items: center;background-color: white;padding-right: 0.2em;padding-left: 0.2em;position: relative;}#sk-container-id-6 div.sk-item {position: relative;z-index: 1;}#sk-container-id-6 div.sk-parallel {display: flex;align-items: stretch;justify-content: center;background-color: white;position: relative;}#sk-container-id-6 div.sk-item::before, #sk-container-id-6 div.sk-parallel-item::before {content: \"\";position: absolute;border-left: 1px solid gray;box-sizing: border-box;top: 0;bottom: 0;left: 50%;z-index: -1;}#sk-container-id-6 div.sk-parallel-item {display: flex;flex-direction: column;z-index: 1;position: relative;background-color: white;}#sk-container-id-6 div.sk-parallel-item:first-child::after {align-self: flex-end;width: 50%;}#sk-container-id-6 div.sk-parallel-item:last-child::after {align-self: flex-start;width: 50%;}#sk-container-id-6 div.sk-parallel-item:only-child::after {width: 0;}#sk-container-id-6 div.sk-dashed-wrapped {border: 1px dashed gray;margin: 0 0.4em 0.5em 0.4em;box-sizing: border-box;padding-bottom: 0.4em;background-color: white;}#sk-container-id-6 div.sk-label label {font-family: monospace;font-weight: bold;display: inline-block;line-height: 1.2em;}#sk-container-id-6 div.sk-label-container {text-align: center;}#sk-container-id-6 div.sk-container {/* jupyter's `normalize.less` sets `[hidden] { display: none; }` but bootstrap.min.css set `[hidden] { display: none !important; }` so we also need the `!important` here to be able to override the default hidden behavior on the sphinx rendered scikit-learn.org. See: https://github.com/scikit-learn/scikit-learn/issues/21755 */display: inline-block !important;position: relative;}#sk-container-id-6 div.sk-text-repr-fallback {display: none;}</style><div id=\"sk-container-id-6\" class=\"sk-top-container\"><div class=\"sk-text-repr-fallback\"><pre>XGBClassifier(base_score=None, booster=None, callbacks=None,\n              colsample_bylevel=None, colsample_bynode=None,\n              colsample_bytree=None, early_stopping_rounds=None,\n              enable_categorical=False, eval_metric=None, feature_types=None,\n              gamma=None, gpu_id=None, grow_policy=None, importance_type=None,\n              interaction_constraints=None, learning_rate=None, max_bin=None,\n              max_cat_threshold=None, max_cat_to_onehot=None,\n              max_delta_step=None, max_depth=None, max_leaves=None,\n              min_child_weight=None, missing=nan, monotone_constraints=None,\n              n_estimators=100, n_jobs=None, num_parallel_tree=None,\n              predictor=None, random_state=None, ...)</pre><b>In a Jupyter environment, please rerun this cell to show the HTML representation or trust the notebook. <br />On GitHub, the HTML representation is unable to render, please try loading this page with nbviewer.org.</b></div><div class=\"sk-container\" hidden><div class=\"sk-item\"><div class=\"sk-estimator sk-toggleable\"><input class=\"sk-toggleable__control sk-hidden--visually\" id=\"sk-estimator-id-6\" type=\"checkbox\" checked><label for=\"sk-estimator-id-6\" class=\"sk-toggleable__label sk-toggleable__label-arrow\">XGBClassifier</label><div class=\"sk-toggleable__content\"><pre>XGBClassifier(base_score=None, booster=None, callbacks=None,\n              colsample_bylevel=None, colsample_bynode=None,\n              colsample_bytree=None, early_stopping_rounds=None,\n              enable_categorical=False, eval_metric=None, feature_types=None,\n              gamma=None, gpu_id=None, grow_policy=None, importance_type=None,\n              interaction_constraints=None, learning_rate=None, max_bin=None,\n              max_cat_threshold=None, max_cat_to_onehot=None,\n              max_delta_step=None, max_depth=None, max_leaves=None,\n              min_child_weight=None, missing=nan, monotone_constraints=None,\n              n_estimators=100, n_jobs=None, num_parallel_tree=None,\n              predictor=None, random_state=None, ...)</pre></div></div></div></div></div>"
     },
     "execution_count": 96,
     "metadata": {},
     "output_type": "execute_result"
    }
   ],
   "source": [
    "clf_xgb = xgb.XGBClassifier(objective='binary:logistic', seed=6)\n",
    "clf_xgb.fit(X_train,\n",
    "            y_train,\n",
    "            verbose=True,\n",
    "            early_stopping_rounds=10,\n",
    "            eval_metric='aucpr',\n",
    "            eval_set=[(X_test,y_test)]\n",
    "            )"
   ],
   "metadata": {
    "collapsed": false
   }
  },
  {
   "cell_type": "code",
   "execution_count": 100,
   "outputs": [
    {
     "name": "stdout",
     "output_type": "stream",
     "text": [
      "None\n"
     ]
    }
   ],
   "source": [
    "# i should test a lot of things, seems like i didnt get clf as i expected\n",
    "print(clf_xgb.max_depth)"
   ],
   "metadata": {
    "collapsed": false
   }
  },
  {
   "cell_type": "code",
   "execution_count": 112,
   "outputs": [
    {
     "data": {
      "text/plain": "<sklearn.metrics._plot.confusion_matrix.ConfusionMatrixDisplay at 0x2053ad048d0>"
     },
     "execution_count": 112,
     "metadata": {},
     "output_type": "execute_result"
    },
    {
     "data": {
      "text/plain": "<Figure size 640x480 with 2 Axes>",
      "image/png": "[encoded data removed]"
     },
     "metadata": {},
     "output_type": "display_data"
    }
   ],
   "source": [
    "ConfusionMatrixDisplay.from_estimator(clf_xgb,X_test,y_test, display_labels=['Stayed','Left'],cmap=plt.cm.bone)"
   ],
   "metadata": {
    "collapsed": false
   }
  }
 ],
 "metadata": {
  "kernelspec": {
   "display_name": "Python 3 (ipykernel)",
   "language": "python",
   "name": "python3"
  },
  "language_info": {
   "codemirror_mode": {
    "name": "ipython",
    "version": 3
   },
   "file_extension": ".py",
   "mimetype": "text/x-python",
   "name": "python",
   "nbconvert_exporter": "python",
   "pygments_lexer": "ipython3",
   "version": "3.11.4"
  }
 },
 "nbformat": 4,
 "nbformat_minor": 5
}
